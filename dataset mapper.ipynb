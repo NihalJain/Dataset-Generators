{
 "cells": [
  {
   "cell_type": "code",
   "execution_count": 7,
   "metadata": {
    "collapsed": true
   },
   "outputs": [],
   "source": [
    "import re\n",
    "def countItems(line):\n",
    "    digit = 0\n",
    "    modifiedLine = \"\"\n",
    "    \n",
    "    numbers = result = re.findall(r'[0-9]+', line)\n",
    "    for i in range(len(numbers)):\n",
    "        digit += 1\n",
    "        modifiedLine += str(int(numbers[i])+1)+\" \"\n",
    "    return str(digit)+\" \"+modifiedLine.strip(\" \")+\"\\n\""
   ]
  },
  {
   "cell_type": "markdown",
   "metadata": {},
   "source": [
    "two types of datasets are supported\n",
    "   - ibm format (cid tid #items itemset)\n",
    "\tHere each line contains the \n",
    "\t   customerid, transid, number of items, and list of items\n",
    "\n",
    "   - basic ascii format (itemset) \n",
    "        Here each line is just a list of items"
   ]
  },
  {
   "cell_type": "code",
   "execution_count": 8,
   "metadata": {
    "collapsed": false
   },
   "outputs": [],
   "source": [
    "iFiles = [\"hor_10_1000.txt\", \"hor_12_1000.txt\", \"hor_14_1000.txt\", \"hor_16_1000.txt\", \"hor_18_1000.txt\", \n",
    "          \"hor_20_1000.txt\", \"hor_22_1000.txt\"]\n",
    "\n",
    "for iFname in iFiles:\n",
    "    #iFname = input()\n",
    "    oFname = \"for_\"+iFname\n",
    "    target = open(oFname, 'w')\n",
    "\n",
    "    with open(iFname, \"r\") as ins:\n",
    "        transNum = 1\n",
    "        for line in ins:\n",
    "            target.write(str(transNum)+\" \"+str(transNum)+\" \"+str(countItems(line)))#+\"\\t\"+line)\n",
    "            transNum += 1"
   ]
  },
  {
   "cell_type": "code",
   "execution_count": null,
   "metadata": {},
   "outputs": [],
   "source": [
    ""
   ]
  }
 ],
 "metadata": {
  "kernelspec": {
   "display_name": "Python 3",
   "language": "python",
   "name": "python3"
  },
  "language_info": {
   "codemirror_mode": {
    "name": "ipython",
    "version": 3.0
   },
   "file_extension": ".py",
   "mimetype": "text/x-python",
   "name": "python",
   "nbconvert_exporter": "python",
   "pygments_lexer": "ipython3",
   "version": "3.5.1"
  }
 },
 "nbformat": 4,
 "nbformat_minor": 0
}